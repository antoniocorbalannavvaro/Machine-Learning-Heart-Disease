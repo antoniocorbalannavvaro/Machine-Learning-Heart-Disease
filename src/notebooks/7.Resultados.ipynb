{
 "cells": [
  {
   "cell_type": "markdown",
   "metadata": {},
   "source": [
    "## Resultados:"
   ]
  },
  {
   "cell_type": "markdown",
   "metadata": {},
   "source": [
    "<h2>Usando las siguientes variables:</h2>\n",
    "\n",
    "**('ST_Slope', 'Oldpeak', 'Cholesterol', 'Age', 'RestingBP', 'MaxHR', 'Sex')**\n",
    "\n",
    "1. *Modelo_Bagging_Classifier 91,72 %*\n",
    "\n",
    "2. *Random Forest 87,03 %*\n",
    "\n",
    "3. *Ada Boost Classifier 86,60 %*\n",
    "\n",
    "4.  *Decission Tree (Features Importance) 72,67 %*\n",
    "\n",
    "<h2>Usando las siguientes variables:</h2>\n",
    "\n",
    "**('Age', 'Sex', 'ChestPainType', 'RestingBP', 'Cholesterol', 'FastingBS',** \n",
    " **'RestingECG', 'MaxHR', 'ExerciseAngina', 'Oldpeak', 'ST_Slope')**\n",
    "       \n",
    "1. *Decission Tree 86,33 %*\n",
    "\n",
    "2. *Regresión Logística 84,74 %*\n"
   ]
  }
 ],
 "metadata": {
  "language_info": {
   "name": "python"
  },
  "orig_nbformat": 4
 },
 "nbformat": 4,
 "nbformat_minor": 2
}
