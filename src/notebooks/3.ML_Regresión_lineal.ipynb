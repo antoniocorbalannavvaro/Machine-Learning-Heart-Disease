{
 "cells": [
  {
   "cell_type": "markdown",
   "metadata": {},
   "source": [
    "# 3. Modelo de Regresión lineal"
   ]
  },
  {
   "cell_type": "code",
   "execution_count": 15,
   "metadata": {},
   "outputs": [],
   "source": [
    "import pandas as pd\n",
    "import numpy as np\n",
    "import seaborn as sns"
   ]
  },
  {
   "cell_type": "code",
   "execution_count": 16,
   "metadata": {},
   "outputs": [
    {
     "data": {
      "text/html": [
       "<div>\n",
       "<style scoped>\n",
       "    .dataframe tbody tr th:only-of-type {\n",
       "        vertical-align: middle;\n",
       "    }\n",
       "\n",
       "    .dataframe tbody tr th {\n",
       "        vertical-align: top;\n",
       "    }\n",
       "\n",
       "    .dataframe thead th {\n",
       "        text-align: right;\n",
       "    }\n",
       "</style>\n",
       "<table border=\"1\" class=\"dataframe\">\n",
       "  <thead>\n",
       "    <tr style=\"text-align: right;\">\n",
       "      <th></th>\n",
       "      <th>Age</th>\n",
       "      <th>Sex</th>\n",
       "      <th>ChestPainType</th>\n",
       "      <th>RestingBP</th>\n",
       "      <th>Cholesterol</th>\n",
       "      <th>FastingBS</th>\n",
       "      <th>RestingECG</th>\n",
       "      <th>MaxHR</th>\n",
       "      <th>ExerciseAngina</th>\n",
       "      <th>Oldpeak</th>\n",
       "      <th>ST_Slope</th>\n",
       "      <th>HeartDisease</th>\n",
       "    </tr>\n",
       "  </thead>\n",
       "  <tbody>\n",
       "    <tr>\n",
       "      <th>0</th>\n",
       "      <td>-1.433140</td>\n",
       "      <td>0.515952</td>\n",
       "      <td>1.198363</td>\n",
       "      <td>0.410909</td>\n",
       "      <td>0.825070</td>\n",
       "      <td>-0.551341</td>\n",
       "      <td>-0.749180</td>\n",
       "      <td>1.382928</td>\n",
       "      <td>-0.823556</td>\n",
       "      <td>-0.832432</td>\n",
       "      <td>0.699073</td>\n",
       "      <td>-1.113115</td>\n",
       "    </tr>\n",
       "    <tr>\n",
       "      <th>1</th>\n",
       "      <td>-0.478484</td>\n",
       "      <td>-1.938163</td>\n",
       "      <td>-1.371957</td>\n",
       "      <td>1.491752</td>\n",
       "      <td>-0.171961</td>\n",
       "      <td>-0.551341</td>\n",
       "      <td>-0.749180</td>\n",
       "      <td>0.754157</td>\n",
       "      <td>-0.823556</td>\n",
       "      <td>0.105664</td>\n",
       "      <td>-0.917423</td>\n",
       "      <td>0.898380</td>\n",
       "    </tr>\n",
       "    <tr>\n",
       "      <th>2</th>\n",
       "      <td>-1.751359</td>\n",
       "      <td>0.515952</td>\n",
       "      <td>1.198363</td>\n",
       "      <td>-0.129513</td>\n",
       "      <td>0.770188</td>\n",
       "      <td>-0.551341</td>\n",
       "      <td>0.492241</td>\n",
       "      <td>-1.525138</td>\n",
       "      <td>-0.823556</td>\n",
       "      <td>-0.832432</td>\n",
       "      <td>0.699073</td>\n",
       "      <td>-1.113115</td>\n",
       "    </tr>\n",
       "    <tr>\n",
       "      <th>3</th>\n",
       "      <td>-0.584556</td>\n",
       "      <td>-1.938163</td>\n",
       "      <td>-0.086797</td>\n",
       "      <td>0.302825</td>\n",
       "      <td>0.139040</td>\n",
       "      <td>-0.551341</td>\n",
       "      <td>-0.749180</td>\n",
       "      <td>-1.132156</td>\n",
       "      <td>1.214246</td>\n",
       "      <td>0.574711</td>\n",
       "      <td>-0.917423</td>\n",
       "      <td>0.898380</td>\n",
       "    </tr>\n",
       "    <tr>\n",
       "      <th>4</th>\n",
       "      <td>0.051881</td>\n",
       "      <td>0.515952</td>\n",
       "      <td>-1.371957</td>\n",
       "      <td>0.951331</td>\n",
       "      <td>-0.034755</td>\n",
       "      <td>-0.551341</td>\n",
       "      <td>-0.749180</td>\n",
       "      <td>-0.581981</td>\n",
       "      <td>-0.823556</td>\n",
       "      <td>-0.832432</td>\n",
       "      <td>0.699073</td>\n",
       "      <td>-1.113115</td>\n",
       "    </tr>\n",
       "    <tr>\n",
       "      <th>...</th>\n",
       "      <td>...</td>\n",
       "      <td>...</td>\n",
       "      <td>...</td>\n",
       "      <td>...</td>\n",
       "      <td>...</td>\n",
       "      <td>...</td>\n",
       "      <td>...</td>\n",
       "      <td>...</td>\n",
       "      <td>...</td>\n",
       "      <td>...</td>\n",
       "      <td>...</td>\n",
       "      <td>...</td>\n",
       "    </tr>\n",
       "    <tr>\n",
       "      <th>913</th>\n",
       "      <td>-0.902775</td>\n",
       "      <td>0.515952</td>\n",
       "      <td>2.483522</td>\n",
       "      <td>-1.210356</td>\n",
       "      <td>0.596393</td>\n",
       "      <td>-0.551341</td>\n",
       "      <td>-0.749180</td>\n",
       "      <td>-0.188999</td>\n",
       "      <td>-0.823556</td>\n",
       "      <td>0.293283</td>\n",
       "      <td>-0.917423</td>\n",
       "      <td>0.898380</td>\n",
       "    </tr>\n",
       "    <tr>\n",
       "      <th>914</th>\n",
       "      <td>1.536902</td>\n",
       "      <td>0.515952</td>\n",
       "      <td>-0.086797</td>\n",
       "      <td>0.627078</td>\n",
       "      <td>-0.053049</td>\n",
       "      <td>1.813758</td>\n",
       "      <td>-0.749180</td>\n",
       "      <td>0.164684</td>\n",
       "      <td>-0.823556</td>\n",
       "      <td>2.357094</td>\n",
       "      <td>-0.917423</td>\n",
       "      <td>0.898380</td>\n",
       "    </tr>\n",
       "    <tr>\n",
       "      <th>915</th>\n",
       "      <td>0.370100</td>\n",
       "      <td>0.515952</td>\n",
       "      <td>-0.086797</td>\n",
       "      <td>-0.129513</td>\n",
       "      <td>-0.620168</td>\n",
       "      <td>-0.551341</td>\n",
       "      <td>-0.749180</td>\n",
       "      <td>-0.857069</td>\n",
       "      <td>1.214246</td>\n",
       "      <td>0.293283</td>\n",
       "      <td>-0.917423</td>\n",
       "      <td>0.898380</td>\n",
       "    </tr>\n",
       "    <tr>\n",
       "      <th>916</th>\n",
       "      <td>0.370100</td>\n",
       "      <td>-1.938163</td>\n",
       "      <td>1.198363</td>\n",
       "      <td>-0.129513</td>\n",
       "      <td>0.340275</td>\n",
       "      <td>-0.551341</td>\n",
       "      <td>1.733661</td>\n",
       "      <td>1.461525</td>\n",
       "      <td>-0.823556</td>\n",
       "      <td>-0.832432</td>\n",
       "      <td>-0.917423</td>\n",
       "      <td>0.898380</td>\n",
       "    </tr>\n",
       "    <tr>\n",
       "      <th>917</th>\n",
       "      <td>-1.645286</td>\n",
       "      <td>0.515952</td>\n",
       "      <td>-1.371957</td>\n",
       "      <td>0.302825</td>\n",
       "      <td>-0.217696</td>\n",
       "      <td>-0.551341</td>\n",
       "      <td>-0.749180</td>\n",
       "      <td>1.422226</td>\n",
       "      <td>-0.823556</td>\n",
       "      <td>-0.832432</td>\n",
       "      <td>0.699073</td>\n",
       "      <td>-1.113115</td>\n",
       "    </tr>\n",
       "  </tbody>\n",
       "</table>\n",
       "<p>918 rows × 12 columns</p>\n",
       "</div>"
      ],
      "text/plain": [
       "          Age       Sex  ChestPainType  RestingBP  Cholesterol  FastingBS  \\\n",
       "0   -1.433140  0.515952       1.198363   0.410909     0.825070  -0.551341   \n",
       "1   -0.478484 -1.938163      -1.371957   1.491752    -0.171961  -0.551341   \n",
       "2   -1.751359  0.515952       1.198363  -0.129513     0.770188  -0.551341   \n",
       "3   -0.584556 -1.938163      -0.086797   0.302825     0.139040  -0.551341   \n",
       "4    0.051881  0.515952      -1.371957   0.951331    -0.034755  -0.551341   \n",
       "..        ...       ...            ...        ...          ...        ...   \n",
       "913 -0.902775  0.515952       2.483522  -1.210356     0.596393  -0.551341   \n",
       "914  1.536902  0.515952      -0.086797   0.627078    -0.053049   1.813758   \n",
       "915  0.370100  0.515952      -0.086797  -0.129513    -0.620168  -0.551341   \n",
       "916  0.370100 -1.938163       1.198363  -0.129513     0.340275  -0.551341   \n",
       "917 -1.645286  0.515952      -1.371957   0.302825    -0.217696  -0.551341   \n",
       "\n",
       "     RestingECG     MaxHR  ExerciseAngina   Oldpeak  ST_Slope  HeartDisease  \n",
       "0     -0.749180  1.382928       -0.823556 -0.832432  0.699073     -1.113115  \n",
       "1     -0.749180  0.754157       -0.823556  0.105664 -0.917423      0.898380  \n",
       "2      0.492241 -1.525138       -0.823556 -0.832432  0.699073     -1.113115  \n",
       "3     -0.749180 -1.132156        1.214246  0.574711 -0.917423      0.898380  \n",
       "4     -0.749180 -0.581981       -0.823556 -0.832432  0.699073     -1.113115  \n",
       "..          ...       ...             ...       ...       ...           ...  \n",
       "913   -0.749180 -0.188999       -0.823556  0.293283 -0.917423      0.898380  \n",
       "914   -0.749180  0.164684       -0.823556  2.357094 -0.917423      0.898380  \n",
       "915   -0.749180 -0.857069        1.214246  0.293283 -0.917423      0.898380  \n",
       "916    1.733661  1.461525       -0.823556 -0.832432 -0.917423      0.898380  \n",
       "917   -0.749180  1.422226       -0.823556 -0.832432  0.699073     -1.113115  \n",
       "\n",
       "[918 rows x 12 columns]"
      ]
     },
     "execution_count": 16,
     "metadata": {},
     "output_type": "execute_result"
    }
   ],
   "source": [
    "df = pd.read_csv(\"Heart_std.csv\")\n",
    "df"
   ]
  },
  {
   "cell_type": "markdown",
   "metadata": {},
   "source": [
    "# Separamos la variable target"
   ]
  },
  {
   "cell_type": "code",
   "execution_count": 17,
   "metadata": {},
   "outputs": [
    {
     "data": {
      "text/plain": [
       "Index(['Age', 'Sex', 'ChestPainType', 'RestingBP', 'Cholesterol', 'FastingBS',\n",
       "       'RestingECG', 'MaxHR', 'ExerciseAngina', 'Oldpeak', 'ST_Slope',\n",
       "       'HeartDisease'],\n",
       "      dtype='object')"
      ]
     },
     "execution_count": 17,
     "metadata": {},
     "output_type": "execute_result"
    }
   ],
   "source": [
    "df.columns"
   ]
  },
  {
   "cell_type": "code",
   "execution_count": 18,
   "metadata": {},
   "outputs": [],
   "source": [
    "X = df[['Age', 'Sex', 'ChestPainType', 'RestingBP', 'Cholesterol', 'FastingBS',\n",
    "       'RestingECG', 'MaxHR', 'ExerciseAngina', 'Oldpeak', 'ST_Slope']]\n",
    "\n",
    "y = df[\"HeartDisease\"]\n"
   ]
  },
  {
   "cell_type": "code",
   "execution_count": 19,
   "metadata": {},
   "outputs": [
    {
     "data": {
      "text/html": [
       "<div>\n",
       "<style scoped>\n",
       "    .dataframe tbody tr th:only-of-type {\n",
       "        vertical-align: middle;\n",
       "    }\n",
       "\n",
       "    .dataframe tbody tr th {\n",
       "        vertical-align: top;\n",
       "    }\n",
       "\n",
       "    .dataframe thead th {\n",
       "        text-align: right;\n",
       "    }\n",
       "</style>\n",
       "<table border=\"1\" class=\"dataframe\">\n",
       "  <thead>\n",
       "    <tr style=\"text-align: right;\">\n",
       "      <th></th>\n",
       "      <th>Age</th>\n",
       "      <th>Sex</th>\n",
       "      <th>ChestPainType</th>\n",
       "      <th>RestingBP</th>\n",
       "      <th>Cholesterol</th>\n",
       "      <th>FastingBS</th>\n",
       "      <th>RestingECG</th>\n",
       "      <th>MaxHR</th>\n",
       "      <th>ExerciseAngina</th>\n",
       "      <th>Oldpeak</th>\n",
       "      <th>ST_Slope</th>\n",
       "    </tr>\n",
       "  </thead>\n",
       "  <tbody>\n",
       "    <tr>\n",
       "      <th>0</th>\n",
       "      <td>-1.433140</td>\n",
       "      <td>0.515952</td>\n",
       "      <td>1.198363</td>\n",
       "      <td>0.410909</td>\n",
       "      <td>0.825070</td>\n",
       "      <td>-0.551341</td>\n",
       "      <td>-0.749180</td>\n",
       "      <td>1.382928</td>\n",
       "      <td>-0.823556</td>\n",
       "      <td>-0.832432</td>\n",
       "      <td>0.699073</td>\n",
       "    </tr>\n",
       "    <tr>\n",
       "      <th>1</th>\n",
       "      <td>-0.478484</td>\n",
       "      <td>-1.938163</td>\n",
       "      <td>-1.371957</td>\n",
       "      <td>1.491752</td>\n",
       "      <td>-0.171961</td>\n",
       "      <td>-0.551341</td>\n",
       "      <td>-0.749180</td>\n",
       "      <td>0.754157</td>\n",
       "      <td>-0.823556</td>\n",
       "      <td>0.105664</td>\n",
       "      <td>-0.917423</td>\n",
       "    </tr>\n",
       "    <tr>\n",
       "      <th>2</th>\n",
       "      <td>-1.751359</td>\n",
       "      <td>0.515952</td>\n",
       "      <td>1.198363</td>\n",
       "      <td>-0.129513</td>\n",
       "      <td>0.770188</td>\n",
       "      <td>-0.551341</td>\n",
       "      <td>0.492241</td>\n",
       "      <td>-1.525138</td>\n",
       "      <td>-0.823556</td>\n",
       "      <td>-0.832432</td>\n",
       "      <td>0.699073</td>\n",
       "    </tr>\n",
       "    <tr>\n",
       "      <th>3</th>\n",
       "      <td>-0.584556</td>\n",
       "      <td>-1.938163</td>\n",
       "      <td>-0.086797</td>\n",
       "      <td>0.302825</td>\n",
       "      <td>0.139040</td>\n",
       "      <td>-0.551341</td>\n",
       "      <td>-0.749180</td>\n",
       "      <td>-1.132156</td>\n",
       "      <td>1.214246</td>\n",
       "      <td>0.574711</td>\n",
       "      <td>-0.917423</td>\n",
       "    </tr>\n",
       "    <tr>\n",
       "      <th>4</th>\n",
       "      <td>0.051881</td>\n",
       "      <td>0.515952</td>\n",
       "      <td>-1.371957</td>\n",
       "      <td>0.951331</td>\n",
       "      <td>-0.034755</td>\n",
       "      <td>-0.551341</td>\n",
       "      <td>-0.749180</td>\n",
       "      <td>-0.581981</td>\n",
       "      <td>-0.823556</td>\n",
       "      <td>-0.832432</td>\n",
       "      <td>0.699073</td>\n",
       "    </tr>\n",
       "    <tr>\n",
       "      <th>...</th>\n",
       "      <td>...</td>\n",
       "      <td>...</td>\n",
       "      <td>...</td>\n",
       "      <td>...</td>\n",
       "      <td>...</td>\n",
       "      <td>...</td>\n",
       "      <td>...</td>\n",
       "      <td>...</td>\n",
       "      <td>...</td>\n",
       "      <td>...</td>\n",
       "      <td>...</td>\n",
       "    </tr>\n",
       "    <tr>\n",
       "      <th>913</th>\n",
       "      <td>-0.902775</td>\n",
       "      <td>0.515952</td>\n",
       "      <td>2.483522</td>\n",
       "      <td>-1.210356</td>\n",
       "      <td>0.596393</td>\n",
       "      <td>-0.551341</td>\n",
       "      <td>-0.749180</td>\n",
       "      <td>-0.188999</td>\n",
       "      <td>-0.823556</td>\n",
       "      <td>0.293283</td>\n",
       "      <td>-0.917423</td>\n",
       "    </tr>\n",
       "    <tr>\n",
       "      <th>914</th>\n",
       "      <td>1.536902</td>\n",
       "      <td>0.515952</td>\n",
       "      <td>-0.086797</td>\n",
       "      <td>0.627078</td>\n",
       "      <td>-0.053049</td>\n",
       "      <td>1.813758</td>\n",
       "      <td>-0.749180</td>\n",
       "      <td>0.164684</td>\n",
       "      <td>-0.823556</td>\n",
       "      <td>2.357094</td>\n",
       "      <td>-0.917423</td>\n",
       "    </tr>\n",
       "    <tr>\n",
       "      <th>915</th>\n",
       "      <td>0.370100</td>\n",
       "      <td>0.515952</td>\n",
       "      <td>-0.086797</td>\n",
       "      <td>-0.129513</td>\n",
       "      <td>-0.620168</td>\n",
       "      <td>-0.551341</td>\n",
       "      <td>-0.749180</td>\n",
       "      <td>-0.857069</td>\n",
       "      <td>1.214246</td>\n",
       "      <td>0.293283</td>\n",
       "      <td>-0.917423</td>\n",
       "    </tr>\n",
       "    <tr>\n",
       "      <th>916</th>\n",
       "      <td>0.370100</td>\n",
       "      <td>-1.938163</td>\n",
       "      <td>1.198363</td>\n",
       "      <td>-0.129513</td>\n",
       "      <td>0.340275</td>\n",
       "      <td>-0.551341</td>\n",
       "      <td>1.733661</td>\n",
       "      <td>1.461525</td>\n",
       "      <td>-0.823556</td>\n",
       "      <td>-0.832432</td>\n",
       "      <td>-0.917423</td>\n",
       "    </tr>\n",
       "    <tr>\n",
       "      <th>917</th>\n",
       "      <td>-1.645286</td>\n",
       "      <td>0.515952</td>\n",
       "      <td>-1.371957</td>\n",
       "      <td>0.302825</td>\n",
       "      <td>-0.217696</td>\n",
       "      <td>-0.551341</td>\n",
       "      <td>-0.749180</td>\n",
       "      <td>1.422226</td>\n",
       "      <td>-0.823556</td>\n",
       "      <td>-0.832432</td>\n",
       "      <td>0.699073</td>\n",
       "    </tr>\n",
       "  </tbody>\n",
       "</table>\n",
       "<p>918 rows × 11 columns</p>\n",
       "</div>"
      ],
      "text/plain": [
       "          Age       Sex  ChestPainType  RestingBP  Cholesterol  FastingBS  \\\n",
       "0   -1.433140  0.515952       1.198363   0.410909     0.825070  -0.551341   \n",
       "1   -0.478484 -1.938163      -1.371957   1.491752    -0.171961  -0.551341   \n",
       "2   -1.751359  0.515952       1.198363  -0.129513     0.770188  -0.551341   \n",
       "3   -0.584556 -1.938163      -0.086797   0.302825     0.139040  -0.551341   \n",
       "4    0.051881  0.515952      -1.371957   0.951331    -0.034755  -0.551341   \n",
       "..        ...       ...            ...        ...          ...        ...   \n",
       "913 -0.902775  0.515952       2.483522  -1.210356     0.596393  -0.551341   \n",
       "914  1.536902  0.515952      -0.086797   0.627078    -0.053049   1.813758   \n",
       "915  0.370100  0.515952      -0.086797  -0.129513    -0.620168  -0.551341   \n",
       "916  0.370100 -1.938163       1.198363  -0.129513     0.340275  -0.551341   \n",
       "917 -1.645286  0.515952      -1.371957   0.302825    -0.217696  -0.551341   \n",
       "\n",
       "     RestingECG     MaxHR  ExerciseAngina   Oldpeak  ST_Slope  \n",
       "0     -0.749180  1.382928       -0.823556 -0.832432  0.699073  \n",
       "1     -0.749180  0.754157       -0.823556  0.105664 -0.917423  \n",
       "2      0.492241 -1.525138       -0.823556 -0.832432  0.699073  \n",
       "3     -0.749180 -1.132156        1.214246  0.574711 -0.917423  \n",
       "4     -0.749180 -0.581981       -0.823556 -0.832432  0.699073  \n",
       "..          ...       ...             ...       ...       ...  \n",
       "913   -0.749180 -0.188999       -0.823556  0.293283 -0.917423  \n",
       "914   -0.749180  0.164684       -0.823556  2.357094 -0.917423  \n",
       "915   -0.749180 -0.857069        1.214246  0.293283 -0.917423  \n",
       "916    1.733661  1.461525       -0.823556 -0.832432 -0.917423  \n",
       "917   -0.749180  1.422226       -0.823556 -0.832432  0.699073  \n",
       "\n",
       "[918 rows x 11 columns]"
      ]
     },
     "execution_count": 19,
     "metadata": {},
     "output_type": "execute_result"
    }
   ],
   "source": [
    "X"
   ]
  },
  {
   "cell_type": "code",
   "execution_count": 20,
   "metadata": {},
   "outputs": [
    {
     "data": {
      "text/plain": [
       "0     -1.113115\n",
       "1      0.898380\n",
       "2     -1.113115\n",
       "3      0.898380\n",
       "4     -1.113115\n",
       "         ...   \n",
       "913    0.898380\n",
       "914    0.898380\n",
       "915    0.898380\n",
       "916    0.898380\n",
       "917   -1.113115\n",
       "Name: HeartDisease, Length: 918, dtype: float64"
      ]
     },
     "execution_count": 20,
     "metadata": {},
     "output_type": "execute_result"
    }
   ],
   "source": [
    "y"
   ]
  },
  {
   "cell_type": "markdown",
   "metadata": {},
   "source": [
    "## Separamos los datos en Train y Test"
   ]
  },
  {
   "cell_type": "code",
   "execution_count": 21,
   "metadata": {},
   "outputs": [],
   "source": [
    "from sklearn.model_selection import train_test_split\n",
    "\n",
    "X_train, X_test, y_train, y_test = train_test_split(X, y, test_size = 0.30, random_state = 1)"
   ]
  },
  {
   "cell_type": "markdown",
   "metadata": {},
   "source": [
    "### Comprobamos que se ha realizado el train_test_split correctamente"
   ]
  },
  {
   "cell_type": "code",
   "execution_count": 22,
   "metadata": {},
   "outputs": [
    {
     "name": "stdout",
     "output_type": "stream",
     "text": [
      "Total features shape: (918, 11)\n",
      "Train features shape: (642, 11)\n",
      "Train target shape: (642,)\n",
      "Test features shape: (276, 11)\n",
      "Test target shape: (276,)\n"
     ]
    }
   ],
   "source": [
    "print(\"Total features shape:\", X.shape)\n",
    "print(\"Train features shape:\", X_train.shape)\n",
    "print(\"Train target shape:\", y_train.shape)\n",
    "print(\"Test features shape:\", X_test.shape)\n",
    "print(\"Test target shape:\", y_test.shape)"
   ]
  },
  {
   "cell_type": "markdown",
   "metadata": {},
   "source": [
    "### Creamos y entrenamos nuestro modelo"
   ]
  },
  {
   "cell_type": "code",
   "execution_count": 23,
   "metadata": {},
   "outputs": [],
   "source": [
    "from sklearn.linear_model import LinearRegression"
   ]
  },
  {
   "cell_type": "code",
   "execution_count": 24,
   "metadata": {},
   "outputs": [
    {
     "data": {
      "text/plain": [
       "LinearRegression()"
      ]
     },
     "execution_count": 24,
     "metadata": {},
     "output_type": "execute_result"
    }
   ],
   "source": [
    "modelo = LinearRegression()\n",
    "modelo.fit(X_train, y_train)"
   ]
  },
  {
   "cell_type": "code",
   "execution_count": 25,
   "metadata": {},
   "outputs": [
    {
     "data": {
      "text/html": [
       "<div>\n",
       "<style scoped>\n",
       "    .dataframe tbody tr th:only-of-type {\n",
       "        vertical-align: middle;\n",
       "    }\n",
       "\n",
       "    .dataframe tbody tr th {\n",
       "        vertical-align: top;\n",
       "    }\n",
       "\n",
       "    .dataframe thead th {\n",
       "        text-align: right;\n",
       "    }\n",
       "</style>\n",
       "<table border=\"1\" class=\"dataframe\">\n",
       "  <thead>\n",
       "    <tr style=\"text-align: right;\">\n",
       "      <th></th>\n",
       "      <th>Coefficient</th>\n",
       "    </tr>\n",
       "  </thead>\n",
       "  <tbody>\n",
       "    <tr>\n",
       "      <th>Age</th>\n",
       "      <td>0.055632</td>\n",
       "    </tr>\n",
       "    <tr>\n",
       "      <th>Sex</th>\n",
       "      <td>0.140932</td>\n",
       "    </tr>\n",
       "    <tr>\n",
       "      <th>ChestPainType</th>\n",
       "      <td>0.003012</td>\n",
       "    </tr>\n",
       "    <tr>\n",
       "      <th>RestingBP</th>\n",
       "      <td>0.001587</td>\n",
       "    </tr>\n",
       "    <tr>\n",
       "      <th>Cholesterol</th>\n",
       "      <td>-0.153032</td>\n",
       "    </tr>\n",
       "    <tr>\n",
       "      <th>FastingBS</th>\n",
       "      <td>0.129339</td>\n",
       "    </tr>\n",
       "    <tr>\n",
       "      <th>RestingECG</th>\n",
       "      <td>0.017636</td>\n",
       "    </tr>\n",
       "    <tr>\n",
       "      <th>MaxHR</th>\n",
       "      <td>-0.093404</td>\n",
       "    </tr>\n",
       "    <tr>\n",
       "      <th>ExerciseAngina</th>\n",
       "      <td>0.235600</td>\n",
       "    </tr>\n",
       "    <tr>\n",
       "      <th>Oldpeak</th>\n",
       "      <td>0.226776</td>\n",
       "    </tr>\n",
       "    <tr>\n",
       "      <th>ST_Slope</th>\n",
       "      <td>-0.282693</td>\n",
       "    </tr>\n",
       "  </tbody>\n",
       "</table>\n",
       "</div>"
      ],
      "text/plain": [
       "                Coefficient\n",
       "Age                0.055632\n",
       "Sex                0.140932\n",
       "ChestPainType      0.003012\n",
       "RestingBP          0.001587\n",
       "Cholesterol       -0.153032\n",
       "FastingBS          0.129339\n",
       "RestingECG         0.017636\n",
       "MaxHR             -0.093404\n",
       "ExerciseAngina     0.235600\n",
       "Oldpeak            0.226776\n",
       "ST_Slope          -0.282693"
      ]
     },
     "execution_count": 25,
     "metadata": {},
     "output_type": "execute_result"
    }
   ],
   "source": [
    "coeff_df = pd.DataFrame(modelo.coef_,\n",
    "                        X.columns,\n",
    "                        columns=['Coefficient'])\n",
    "coeff_df"
   ]
  },
  {
   "cell_type": "markdown",
   "metadata": {},
   "source": [
    "### Interpretamos los coeficientes:"
   ]
  },
  {
   "cell_type": "markdown",
   "metadata": {},
   "source": [
    "Si aumentamos en 1 año la edad, esto repercutirar en una subida de 0.048573 en nuestra variable target; y asi con el resto de variables.\n",
    "\n",
    "* Podemos observar que la variable \"ExerciseAngina\" es la que más repercute a la hora de predecir una enfermedad cardíaca (Si a la persona se le ha inducido una angina de pecho es más probable que sufra un episodio cardiovascular)\n",
    "\n",
    "* Por el contrario, la variable \"ST_Slope\", que refleja la pendiente que sigue el electrocadiograma después de un latido, si ésta es igual a 1, nuestra varible target bajará en -0.292226. A medida que aumente esta variable, nuestro target subirá, ya que 1 es una valor positivo (Flat ST Slope) mientras que 2 y 3 (Up and Down ST Slope respectivamente) son indicativos de anomalías.\n",
    "\n",
    "3 - isquemia miocardica = Down\n",
    "\n",
    "2 - posible isquemia miocardica = Up\n",
    "\n",
    "1 - Si anomalías = Flat\n"
   ]
  },
  {
   "cell_type": "markdown",
   "metadata": {},
   "source": [
    "# Graficamos los resultados para ver si el modelo de regresión lineal es el más indicado para este tipo de problema."
   ]
  },
  {
   "cell_type": "code",
   "execution_count": 26,
   "metadata": {},
   "outputs": [],
   "source": [
    "predictions = modelo.predict(X_test)"
   ]
  },
  {
   "cell_type": "markdown",
   "metadata": {},
   "source": [
    "<h3>Con esta gráfica ya podemos ver que se trata de un problema de clasificación y no de regresión."
   ]
  },
  {
   "cell_type": "code",
   "execution_count": 27,
   "metadata": {},
   "outputs": [
    {
     "name": "stderr",
     "output_type": "stream",
     "text": [
      "C:\\Users\\Señor Topo\\AppData\\Local\\Programs\\Python\\Python310\\lib\\site-packages\\seaborn\\_decorators.py:36: FutureWarning: Pass the following variables as keyword args: x, y. From version 0.12, the only valid positional argument will be `data`, and passing other arguments without an explicit keyword will result in an error or misinterpretation.\n",
      "  warnings.warn(\n"
     ]
    },
    {
     "data": {
      "image/png": "[encoded data removed]",
      "text/plain": [
       "<Figure size 432x288 with 1 Axes>"
      ]
     },
     "metadata": {
      "needs_background": "light"
     },
     "output_type": "display_data"
    }
   ],
   "source": [
    "sns.scatterplot(y_test, predictions);"
   ]
  },
  {
   "cell_type": "markdown",
   "metadata": {},
   "source": [
    "## Sacamos la puntuación de nuestro modelo."
   ]
  },
  {
   "cell_type": "code",
   "execution_count": 28,
   "metadata": {},
   "outputs": [
    {
     "name": "stdout",
     "output_type": "stream",
     "text": [
      "El modelo tiene un porcentaje de acierto del 48.0 %\n",
      "No es un buen modelo\n"
     ]
    }
   ],
   "source": [
    "from sklearn import metrics\n",
    "\n",
    "print(\"El modelo tiene un porcentaje de acierto del\",100*round(modelo.score(X_test, y_test),2),\"%\")\n",
    "print(\"No es un buen modelo\")"
   ]
  },
  {
   "cell_type": "code",
   "execution_count": 29,
   "metadata": {},
   "outputs": [
    {
     "name": "stdout",
     "output_type": "stream",
     "text": [
      "MAE: 0.5605525690343915\n",
      "MSE: 0.5032743154548897\n",
      "RMSE: 0.7094182937131588\n"
     ]
    }
   ],
   "source": [
    "print('MAE:', metrics.mean_absolute_error(y_test, predictions))\n",
    "print('MSE:', metrics.mean_squared_error(y_test, predictions))\n",
    "print('RMSE:', np.sqrt(metrics.mean_squared_error(y_test, predictions)))"
   ]
  },
  {
   "cell_type": "markdown",
   "metadata": {},
   "source": [
    "# Ahora vamos a hacer otro modelo pero con las variables más relevantes:"
   ]
  },
  {
   "cell_type": "code",
   "execution_count": 30,
   "metadata": {},
   "outputs": [
    {
     "data": {
      "text/html": [
       "<div>\n",
       "<style scoped>\n",
       "    .dataframe tbody tr th:only-of-type {\n",
       "        vertical-align: middle;\n",
       "    }\n",
       "\n",
       "    .dataframe tbody tr th {\n",
       "        vertical-align: top;\n",
       "    }\n",
       "\n",
       "    .dataframe thead th {\n",
       "        text-align: right;\n",
       "    }\n",
       "</style>\n",
       "<table border=\"1\" class=\"dataframe\">\n",
       "  <thead>\n",
       "    <tr style=\"text-align: right;\">\n",
       "      <th></th>\n",
       "      <th>coefficient</th>\n",
       "    </tr>\n",
       "  </thead>\n",
       "  <tbody>\n",
       "    <tr>\n",
       "      <th>ExerciseAngina</th>\n",
       "      <td>0.235600</td>\n",
       "    </tr>\n",
       "    <tr>\n",
       "      <th>Oldpeak</th>\n",
       "      <td>0.226776</td>\n",
       "    </tr>\n",
       "    <tr>\n",
       "      <th>Sex</th>\n",
       "      <td>0.140932</td>\n",
       "    </tr>\n",
       "    <tr>\n",
       "      <th>FastingBS</th>\n",
       "      <td>0.129339</td>\n",
       "    </tr>\n",
       "    <tr>\n",
       "      <th>Age</th>\n",
       "      <td>0.055632</td>\n",
       "    </tr>\n",
       "    <tr>\n",
       "      <th>RestingECG</th>\n",
       "      <td>0.017636</td>\n",
       "    </tr>\n",
       "    <tr>\n",
       "      <th>ChestPainType</th>\n",
       "      <td>0.003012</td>\n",
       "    </tr>\n",
       "    <tr>\n",
       "      <th>RestingBP</th>\n",
       "      <td>0.001587</td>\n",
       "    </tr>\n",
       "    <tr>\n",
       "      <th>MaxHR</th>\n",
       "      <td>-0.093404</td>\n",
       "    </tr>\n",
       "    <tr>\n",
       "      <th>Cholesterol</th>\n",
       "      <td>-0.153032</td>\n",
       "    </tr>\n",
       "    <tr>\n",
       "      <th>ST_Slope</th>\n",
       "      <td>-0.282693</td>\n",
       "    </tr>\n",
       "  </tbody>\n",
       "</table>\n",
       "</div>"
      ],
      "text/plain": [
       "                coefficient\n",
       "ExerciseAngina     0.235600\n",
       "Oldpeak            0.226776\n",
       "Sex                0.140932\n",
       "FastingBS          0.129339\n",
       "Age                0.055632\n",
       "RestingECG         0.017636\n",
       "ChestPainType      0.003012\n",
       "RestingBP          0.001587\n",
       "MaxHR             -0.093404\n",
       "Cholesterol       -0.153032\n",
       "ST_Slope          -0.282693"
      ]
     },
     "execution_count": 30,
     "metadata": {},
     "output_type": "execute_result"
    }
   ],
   "source": [
    "intercept = modelo.intercept_\n",
    "features = pd.DataFrame(modelo.coef_, X_train.columns, columns=['coefficient'])\n",
    "features.sort_values('coefficient', ascending=False)"
   ]
  },
  {
   "cell_type": "code",
   "execution_count": 31,
   "metadata": {},
   "outputs": [
    {
     "data": {
      "text/plain": [
       "Index(['Age', 'Sex', 'ChestPainType', 'RestingBP', 'Cholesterol', 'FastingBS',\n",
       "       'RestingECG', 'MaxHR', 'ExerciseAngina', 'Oldpeak', 'ST_Slope',\n",
       "       'HeartDisease'],\n",
       "      dtype='object')"
      ]
     },
     "execution_count": 31,
     "metadata": {},
     "output_type": "execute_result"
    }
   ],
   "source": [
    "df.columns"
   ]
  },
  {
   "cell_type": "code",
   "execution_count": 32,
   "metadata": {},
   "outputs": [
    {
     "name": "stdout",
     "output_type": "stream",
     "text": [
      "El modelo tiene un porcentaje de acierto del 0.51 %\n",
      "MAE: 0.5669297197830977\n",
      "MSE: 0.49061221943995825\n",
      "RMSE: 0.7004371630917068\n"
     ]
    }
   ],
   "source": [
    "X = df[['ExerciseAngina', 'Oldpeak','Sex','Age','FastingBS',\"ST_Slope\",\"RestingBP\"]]\n",
    "\n",
    "y = df['HeartDisease']\n",
    "\n",
    "\n",
    "from sklearn.model_selection import train_test_split\n",
    "X_train, X_test, y_train, y_test = train_test_split(X, y, test_size=0.3, random_state=3)\n",
    "\n",
    "modelo_2 = LinearRegression(n_jobs=-1) \n",
    "modelo_2.fit(X_train, y_train)\n",
    "\n",
    "print(\"El modelo tiene un porcentaje de acierto del\",round(modelo_2.score(X_test, y_test),2),\"%\")\n",
    "\n",
    "predictions = modelo_2.predict(X_test)\n",
    "predictions\n",
    "\n",
    "# A little bit lower without Avg. Area Number of Bedrooms\n",
    "print('MAE:', metrics.mean_absolute_error(y_test, predictions))\n",
    "print('MSE:', metrics.mean_squared_error(y_test, predictions))\n",
    "print('RMSE:', np.sqrt(metrics.mean_squared_error(y_test, predictions)))"
   ]
  },
  {
   "cell_type": "markdown",
   "metadata": {},
   "source": [
    "### Hemos conseguido pasar de un 48% de acierto a un 51%.\n",
    "### No es una mejora significativa. Con esto podemos concluir diciendo que, en efecto, un modelo de regresión lineal no es la mejor manera de resolver el problema."
   ]
  }
 ],
 "metadata": {
  "interpreter": {
   "hash": "afc7916f6869e42630546bdae4a8ce3ae8c6a9be38a4ebefb81f2a8bf402afe1"
  },
  "kernelspec": {
   "display_name": "Python 3.10.0 64-bit (system)",
   "language": "python",
   "name": "python3"
  },
  "language_info": {
   "codemirror_mode": {
    "name": "ipython",
    "version": 3
   },
   "file_extension": ".py",
   "mimetype": "text/x-python",
   "name": "python",
   "nbconvert_exporter": "python",
   "pygments_lexer": "ipython3",
   "version": "3.10.0"
  },
  "orig_nbformat": 4
 },
 "nbformat": 4,
 "nbformat_minor": 2
}
