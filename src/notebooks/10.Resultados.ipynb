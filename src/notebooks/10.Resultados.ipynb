{
 "cells": [
  {
   "cell_type": "markdown",
   "metadata": {},
   "source": [
    "## Resultados:"
   ]
  },
  {
   "cell_type": "markdown",
   "metadata": {},
   "source": [
    "1. Regresión Lineal: 51 %\n",
    "\n",
    "2. Regresión Polinómica: 62 %\n",
    "\n",
    "3. Modelo Ridge: 48 %\n",
    "\n",
    "4. Regresión Logística: 84,74 %\n",
    "\n",
    "5. Decision Tree Classifier: 84,42 %\n",
    "\n",
    "6. Decision Tree Regressor: 83,15 %\n",
    "\n",
    "7. Random Forest Classifier: 82,60 %\n",
    "\n",
    "8. Random Forest Regressor: 32,14%\n",
    "\n",
    "9. Ada Boost Classifier: 81,15 %\n",
    "\n",
    "10. K Neighbors Classifier: 86,59 %\n"
   ]
  }
 ],
 "metadata": {
  "language_info": {
   "name": "python"
  },
  "orig_nbformat": 4
 },
 "nbformat": 4,
 "nbformat_minor": 2
}
