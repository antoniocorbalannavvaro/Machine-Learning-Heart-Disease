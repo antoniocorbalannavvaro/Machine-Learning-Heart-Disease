{
 "cells": [
  {
   "cell_type": "markdown",
   "metadata": {},
   "source": [
    "# 4. Modelo de Regresión Polinómica"
   ]
  },
  {
   "cell_type": "code",
   "execution_count": 14,
   "metadata": {},
   "outputs": [],
   "source": [
    "import pandas as pd\n",
    "import numpy as np\n",
    "import seaborn as sns"
   ]
  },
  {
   "cell_type": "code",
   "execution_count": 15,
   "metadata": {},
   "outputs": [
    {
     "data": {
      "text/html": [
       "<div>\n",
       "<style scoped>\n",
       "    .dataframe tbody tr th:only-of-type {\n",
       "        vertical-align: middle;\n",
       "    }\n",
       "\n",
       "    .dataframe tbody tr th {\n",
       "        vertical-align: top;\n",
       "    }\n",
       "\n",
       "    .dataframe thead th {\n",
       "        text-align: right;\n",
       "    }\n",
       "</style>\n",
       "<table border=\"1\" class=\"dataframe\">\n",
       "  <thead>\n",
       "    <tr style=\"text-align: right;\">\n",
       "      <th></th>\n",
       "      <th>Age</th>\n",
       "      <th>Sex</th>\n",
       "      <th>ChestPainType</th>\n",
       "      <th>RestingBP</th>\n",
       "      <th>Cholesterol</th>\n",
       "      <th>FastingBS</th>\n",
       "      <th>RestingECG</th>\n",
       "      <th>MaxHR</th>\n",
       "      <th>ExerciseAngina</th>\n",
       "      <th>Oldpeak</th>\n",
       "      <th>ST_Slope</th>\n",
       "      <th>HeartDisease</th>\n",
       "    </tr>\n",
       "  </thead>\n",
       "  <tbody>\n",
       "    <tr>\n",
       "      <th>0</th>\n",
       "      <td>-1.433140</td>\n",
       "      <td>0.515952</td>\n",
       "      <td>1.198363</td>\n",
       "      <td>0.410909</td>\n",
       "      <td>0.825070</td>\n",
       "      <td>-0.551341</td>\n",
       "      <td>-0.749180</td>\n",
       "      <td>1.382928</td>\n",
       "      <td>-0.823556</td>\n",
       "      <td>-0.832432</td>\n",
       "      <td>0.699073</td>\n",
       "      <td>-1.113115</td>\n",
       "    </tr>\n",
       "    <tr>\n",
       "      <th>1</th>\n",
       "      <td>-0.478484</td>\n",
       "      <td>-1.938163</td>\n",
       "      <td>-1.371957</td>\n",
       "      <td>1.491752</td>\n",
       "      <td>-0.171961</td>\n",
       "      <td>-0.551341</td>\n",
       "      <td>-0.749180</td>\n",
       "      <td>0.754157</td>\n",
       "      <td>-0.823556</td>\n",
       "      <td>0.105664</td>\n",
       "      <td>-0.917423</td>\n",
       "      <td>0.898380</td>\n",
       "    </tr>\n",
       "    <tr>\n",
       "      <th>2</th>\n",
       "      <td>-1.751359</td>\n",
       "      <td>0.515952</td>\n",
       "      <td>1.198363</td>\n",
       "      <td>-0.129513</td>\n",
       "      <td>0.770188</td>\n",
       "      <td>-0.551341</td>\n",
       "      <td>0.492241</td>\n",
       "      <td>-1.525138</td>\n",
       "      <td>-0.823556</td>\n",
       "      <td>-0.832432</td>\n",
       "      <td>0.699073</td>\n",
       "      <td>-1.113115</td>\n",
       "    </tr>\n",
       "    <tr>\n",
       "      <th>3</th>\n",
       "      <td>-0.584556</td>\n",
       "      <td>-1.938163</td>\n",
       "      <td>-0.086797</td>\n",
       "      <td>0.302825</td>\n",
       "      <td>0.139040</td>\n",
       "      <td>-0.551341</td>\n",
       "      <td>-0.749180</td>\n",
       "      <td>-1.132156</td>\n",
       "      <td>1.214246</td>\n",
       "      <td>0.574711</td>\n",
       "      <td>-0.917423</td>\n",
       "      <td>0.898380</td>\n",
       "    </tr>\n",
       "    <tr>\n",
       "      <th>4</th>\n",
       "      <td>0.051881</td>\n",
       "      <td>0.515952</td>\n",
       "      <td>-1.371957</td>\n",
       "      <td>0.951331</td>\n",
       "      <td>-0.034755</td>\n",
       "      <td>-0.551341</td>\n",
       "      <td>-0.749180</td>\n",
       "      <td>-0.581981</td>\n",
       "      <td>-0.823556</td>\n",
       "      <td>-0.832432</td>\n",
       "      <td>0.699073</td>\n",
       "      <td>-1.113115</td>\n",
       "    </tr>\n",
       "    <tr>\n",
       "      <th>...</th>\n",
       "      <td>...</td>\n",
       "      <td>...</td>\n",
       "      <td>...</td>\n",
       "      <td>...</td>\n",
       "      <td>...</td>\n",
       "      <td>...</td>\n",
       "      <td>...</td>\n",
       "      <td>...</td>\n",
       "      <td>...</td>\n",
       "      <td>...</td>\n",
       "      <td>...</td>\n",
       "      <td>...</td>\n",
       "    </tr>\n",
       "    <tr>\n",
       "      <th>913</th>\n",
       "      <td>-0.902775</td>\n",
       "      <td>0.515952</td>\n",
       "      <td>2.483522</td>\n",
       "      <td>-1.210356</td>\n",
       "      <td>0.596393</td>\n",
       "      <td>-0.551341</td>\n",
       "      <td>-0.749180</td>\n",
       "      <td>-0.188999</td>\n",
       "      <td>-0.823556</td>\n",
       "      <td>0.293283</td>\n",
       "      <td>-0.917423</td>\n",
       "      <td>0.898380</td>\n",
       "    </tr>\n",
       "    <tr>\n",
       "      <th>914</th>\n",
       "      <td>1.536902</td>\n",
       "      <td>0.515952</td>\n",
       "      <td>-0.086797</td>\n",
       "      <td>0.627078</td>\n",
       "      <td>-0.053049</td>\n",
       "      <td>1.813758</td>\n",
       "      <td>-0.749180</td>\n",
       "      <td>0.164684</td>\n",
       "      <td>-0.823556</td>\n",
       "      <td>2.357094</td>\n",
       "      <td>-0.917423</td>\n",
       "      <td>0.898380</td>\n",
       "    </tr>\n",
       "    <tr>\n",
       "      <th>915</th>\n",
       "      <td>0.370100</td>\n",
       "      <td>0.515952</td>\n",
       "      <td>-0.086797</td>\n",
       "      <td>-0.129513</td>\n",
       "      <td>-0.620168</td>\n",
       "      <td>-0.551341</td>\n",
       "      <td>-0.749180</td>\n",
       "      <td>-0.857069</td>\n",
       "      <td>1.214246</td>\n",
       "      <td>0.293283</td>\n",
       "      <td>-0.917423</td>\n",
       "      <td>0.898380</td>\n",
       "    </tr>\n",
       "    <tr>\n",
       "      <th>916</th>\n",
       "      <td>0.370100</td>\n",
       "      <td>-1.938163</td>\n",
       "      <td>1.198363</td>\n",
       "      <td>-0.129513</td>\n",
       "      <td>0.340275</td>\n",
       "      <td>-0.551341</td>\n",
       "      <td>1.733661</td>\n",
       "      <td>1.461525</td>\n",
       "      <td>-0.823556</td>\n",
       "      <td>-0.832432</td>\n",
       "      <td>-0.917423</td>\n",
       "      <td>0.898380</td>\n",
       "    </tr>\n",
       "    <tr>\n",
       "      <th>917</th>\n",
       "      <td>-1.645286</td>\n",
       "      <td>0.515952</td>\n",
       "      <td>-1.371957</td>\n",
       "      <td>0.302825</td>\n",
       "      <td>-0.217696</td>\n",
       "      <td>-0.551341</td>\n",
       "      <td>-0.749180</td>\n",
       "      <td>1.422226</td>\n",
       "      <td>-0.823556</td>\n",
       "      <td>-0.832432</td>\n",
       "      <td>0.699073</td>\n",
       "      <td>-1.113115</td>\n",
       "    </tr>\n",
       "  </tbody>\n",
       "</table>\n",
       "<p>918 rows × 12 columns</p>\n",
       "</div>"
      ],
      "text/plain": [
       "          Age       Sex  ChestPainType  RestingBP  Cholesterol  FastingBS  \\\n",
       "0   -1.433140  0.515952       1.198363   0.410909     0.825070  -0.551341   \n",
       "1   -0.478484 -1.938163      -1.371957   1.491752    -0.171961  -0.551341   \n",
       "2   -1.751359  0.515952       1.198363  -0.129513     0.770188  -0.551341   \n",
       "3   -0.584556 -1.938163      -0.086797   0.302825     0.139040  -0.551341   \n",
       "4    0.051881  0.515952      -1.371957   0.951331    -0.034755  -0.551341   \n",
       "..        ...       ...            ...        ...          ...        ...   \n",
       "913 -0.902775  0.515952       2.483522  -1.210356     0.596393  -0.551341   \n",
       "914  1.536902  0.515952      -0.086797   0.627078    -0.053049   1.813758   \n",
       "915  0.370100  0.515952      -0.086797  -0.129513    -0.620168  -0.551341   \n",
       "916  0.370100 -1.938163       1.198363  -0.129513     0.340275  -0.551341   \n",
       "917 -1.645286  0.515952      -1.371957   0.302825    -0.217696  -0.551341   \n",
       "\n",
       "     RestingECG     MaxHR  ExerciseAngina   Oldpeak  ST_Slope  HeartDisease  \n",
       "0     -0.749180  1.382928       -0.823556 -0.832432  0.699073     -1.113115  \n",
       "1     -0.749180  0.754157       -0.823556  0.105664 -0.917423      0.898380  \n",
       "2      0.492241 -1.525138       -0.823556 -0.832432  0.699073     -1.113115  \n",
       "3     -0.749180 -1.132156        1.214246  0.574711 -0.917423      0.898380  \n",
       "4     -0.749180 -0.581981       -0.823556 -0.832432  0.699073     -1.113115  \n",
       "..          ...       ...             ...       ...       ...           ...  \n",
       "913   -0.749180 -0.188999       -0.823556  0.293283 -0.917423      0.898380  \n",
       "914   -0.749180  0.164684       -0.823556  2.357094 -0.917423      0.898380  \n",
       "915   -0.749180 -0.857069        1.214246  0.293283 -0.917423      0.898380  \n",
       "916    1.733661  1.461525       -0.823556 -0.832432 -0.917423      0.898380  \n",
       "917   -0.749180  1.422226       -0.823556 -0.832432  0.699073     -1.113115  \n",
       "\n",
       "[918 rows x 12 columns]"
      ]
     },
     "execution_count": 15,
     "metadata": {},
     "output_type": "execute_result"
    }
   ],
   "source": [
    "df = pd.read_csv(\"Heart_std.csv\")\n",
    "df"
   ]
  },
  {
   "cell_type": "markdown",
   "metadata": {},
   "source": [
    "# Separamos la variable target"
   ]
  },
  {
   "cell_type": "code",
   "execution_count": 16,
   "metadata": {},
   "outputs": [
    {
     "data": {
      "text/plain": [
       "Index(['Age', 'Sex', 'ChestPainType', 'RestingBP', 'Cholesterol', 'FastingBS',\n",
       "       'RestingECG', 'MaxHR', 'ExerciseAngina', 'Oldpeak', 'ST_Slope',\n",
       "       'HeartDisease'],\n",
       "      dtype='object')"
      ]
     },
     "execution_count": 16,
     "metadata": {},
     "output_type": "execute_result"
    }
   ],
   "source": [
    "df.columns"
   ]
  },
  {
   "cell_type": "code",
   "execution_count": 17,
   "metadata": {},
   "outputs": [],
   "source": [
    "X = df[['Age', 'Sex', 'ChestPainType', 'RestingBP', 'Cholesterol', 'FastingBS',\n",
    "       'RestingECG', 'MaxHR', 'ExerciseAngina', 'Oldpeak', 'ST_Slope']]\n",
    "\n",
    "y = df[\"HeartDisease\"]\n"
   ]
  },
  {
   "cell_type": "markdown",
   "metadata": {},
   "source": [
    "# Creamos nuestro modelo"
   ]
  },
  {
   "cell_type": "code",
   "execution_count": 18,
   "metadata": {},
   "outputs": [],
   "source": [
    "from sklearn.model_selection import train_test_split\n",
    "\n",
    "X_train, X_test, y_train, y_test = train_test_split(X, y, test_size=0.3, random_state=1)"
   ]
  },
  {
   "cell_type": "code",
   "execution_count": 19,
   "metadata": {},
   "outputs": [
    {
     "data": {
      "text/plain": [
       "LinearRegression()"
      ]
     },
     "execution_count": 19,
     "metadata": {},
     "output_type": "execute_result"
    }
   ],
   "source": [
    "from sklearn.linear_model import LinearRegression\n",
    "\n",
    "lin_reg = LinearRegression()\n",
    "lin_reg.fit(X_train, y_train)"
   ]
  },
  {
   "cell_type": "markdown",
   "metadata": {},
   "source": [
    "## Visualizamos de nuestro modelo"
   ]
  },
  {
   "cell_type": "code",
   "execution_count": 20,
   "metadata": {},
   "outputs": [
    {
     "name": "stderr",
     "output_type": "stream",
     "text": [
      "C:\\Users\\Señor Topo\\AppData\\Local\\Programs\\Python\\Python310\\lib\\site-packages\\seaborn\\_decorators.py:36: FutureWarning: Pass the following variables as keyword args: x, y. From version 0.12, the only valid positional argument will be `data`, and passing other arguments without an explicit keyword will result in an error or misinterpretation.\n",
      "  warnings.warn(\n"
     ]
    },
    {
     "data": {
      "text/plain": [
       "<AxesSubplot:xlabel='HeartDisease'>"
      ]
     },
     "execution_count": 20,
     "metadata": {},
     "output_type": "execute_result"
    },
    {
     "data": {
      "image/png": "[encoded data removed]",
      "text/plain": [
       "<Figure size 432x288 with 1 Axes>"
      ]
     },
     "metadata": {
      "needs_background": "light"
     },
     "output_type": "display_data"
    }
   ],
   "source": [
    "y_pred = lin_reg.predict(X_test)\n",
    "sns.regplot(y_test, y_pred)"
   ]
  },
  {
   "cell_type": "code",
   "execution_count": 21,
   "metadata": {},
   "outputs": [
    {
     "data": {
      "text/plain": [
       "LinearRegression()"
      ]
     },
     "execution_count": 21,
     "metadata": {},
     "output_type": "execute_result"
    }
   ],
   "source": [
    "from sklearn.preprocessing import PolynomialFeatures\n",
    "poly_reg = PolynomialFeatures(degree=2)\n",
    "poly_reg.fit(X_train)\n",
    "X_poly_train = poly_reg.transform(X_train) \n",
    "\n",
    "pol_reg = LinearRegression()\n",
    "pol_reg.fit(X_poly_train, y_train)"
   ]
  },
  {
   "cell_type": "code",
   "execution_count": 22,
   "metadata": {},
   "outputs": [],
   "source": [
    "from sklearn.metrics import mean_absolute_error, mean_squared_error, r2_score, mean_absolute_percentage_error"
   ]
  },
  {
   "cell_type": "code",
   "execution_count": 23,
   "metadata": {},
   "outputs": [
    {
     "name": "stdout",
     "output_type": "stream",
     "text": [
      "MAE train 0.4480744016387889\n",
      "MAPE train 0.4514036114254938\n",
      "MSE train 0.37865221350167677\n",
      "RMSE train 0.6153472300268172\n",
      "R2 score train 62.42042293349811 %\n"
     ]
    }
   ],
   "source": [
    "print('MAE train', mean_absolute_error(y_train, pol_reg.predict(X_poly_train)))\n",
    "print('MAPE train', mean_absolute_percentage_error(y_train, pol_reg.predict(X_poly_train)))\n",
    "print('MSE train', mean_squared_error(y_train, pol_reg.predict(X_poly_train)))\n",
    "print('RMSE train', np.sqrt(mean_squared_error(y_train, pol_reg.predict(X_poly_train))))\n",
    "print('R2 score train', 100*r2_score(y_train, pol_reg.predict(X_poly_train)),\"%\")"
   ]
  },
  {
   "cell_type": "markdown",
   "metadata": {},
   "source": [
    "### Vemos que otra vez,crear un modelo de regresión, ya sea lineal o polinómica, no es la mejor manera de abarcar este problema. Hemos obtenido un 62% de acierto."
   ]
  }
 ],
 "metadata": {
  "interpreter": {
   "hash": "afc7916f6869e42630546bdae4a8ce3ae8c6a9be38a4ebefb81f2a8bf402afe1"
  },
  "kernelspec": {
   "display_name": "Python 3.10.0 64-bit (system)",
   "language": "python",
   "name": "python3"
  },
  "language_info": {
   "codemirror_mode": {
    "name": "ipython",
    "version": 3
   },
   "file_extension": ".py",
   "mimetype": "text/x-python",
   "name": "python",
   "nbconvert_exporter": "python",
   "pygments_lexer": "ipython3",
   "version": "3.10.0"
  },
  "orig_nbformat": 4
 },
 "nbformat": 4,
 "nbformat_minor": 2
}
