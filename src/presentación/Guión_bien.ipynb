{
 "cells": [
  {
   "cell_type": "markdown",
   "metadata": {},
   "source": [
    "# Presentación:"
   ]
  },
  {
   "cell_type": "markdown",
   "metadata": {},
   "source": [
    "## 1. Contexto del problema:"
   ]
  },
  {
   "cell_type": "markdown",
   "metadata": {},
   "source": [
    "### Datos objetivos sobre la sanidad pública frente a la privada:"
   ]
  },
  {
   "cell_type": "markdown",
   "metadata": {},
   "source": [
    "1. Mayor grado de satisfacción frente a la publica, achacado a los cortos periodos de espera a la hora de pedir cita.\n",
    "\n",
    "2. Hay una menor gasto/inversión en sanidad privada respecto a la pública, pero su tendencia es positiva. Aunque se invierta en total menos, año tras año el porcentaje de inversión supera al de la pública respecto a los años anteriores.\n",
    "\n",
    "3. Hay un mayor número de hospitales privados que públicos, pero el número de camas disponibles es considerablemente menos en la sanidad privada respecto a la pública.\n",
    "\n",
    "4. Según un estudio de la fundación IDIS:\n",
    "  - Sanidad mixta: 76 %\n",
    "  - Sólo sanidad pública: 17%\n",
    "  - Sólo sanidad privada: 7%"
   ]
  },
  {
   "cell_type": "markdown",
   "metadata": {},
   "source": [
    "### Datos objetivos sobre la problemática de las enfermedades cardiovasculares:"
   ]
  },
  {
   "cell_type": "markdown",
   "metadata": {},
   "source": [
    "1. La cardiopatía isquémica es la principal causa de muerte en el mundo y en España.\n",
    "\n",
    "2. Es una enfermedad del corazón que afecta sobre todo a varones de más 50 años.\n",
    "\n",
    "3. Su incidencia en mujeres es bastante menor aunque también sigue esta correlada con la edad."
   ]
  },
  {
   "cell_type": "markdown",
   "metadata": {},
   "source": [
    "### ¿Qué factores influyen a la hora de tener una enfermedad cardiovascular?\n"
   ]
  },
  {
   "cell_type": "markdown",
   "metadata": {},
   "source": [
    "1. La edad. A partir de los 50 años.\n",
    "\n",
    "2. El sexo. Los varones son más propensos a padecer enefermedades cardiovasculares que las mujeres.\n",
    "\n",
    "3. La forma del segmento ST:\n",
    "\n",
    "- El ST plano con pendiente hacia abajo o con depresión pueden indicar una isquemia coronaria.\n",
    "\n",
    "- La elevación de la ST definida puede indicar un infarto de miocardio transmural.\n",
    "\n",
    "- La depresión del ST puede estar asociada con infarto de miocardio subendocárdico, hipopotasemia o toxicidad digital.\n",
    "\n",
    "- Si el segmento ST se encuentra plano, es indicativo de que el corazón funciona correctamente.\n",
    "\n",
    "4. Las elevadas tasas de colesterol en sangre.\n",
    "\n",
    "5. Haber padecido una angina de pecho inducida por el ejercicio.\n",
    "\n",
    "6. Pico máximo de frecuencia cardíaca.\n",
    "\n",
    "7. Estado del corazón en reposo (Visto en un electrocardigrama)"
   ]
  },
  {
   "cell_type": "markdown",
   "metadata": {},
   "source": [
    "## 2. ¿Qué proponemos?"
   ]
  },
  {
   "cell_type": "markdown",
   "metadata": {},
   "source": [
    "### Dados los siguientes hechos:\n",
    "\n",
    "1. El grado de satisfacción de la sanidad privada es mayor que el de la pública.\n",
    "\n",
    "2. Cada vez se invierte más en sanidad privada.\n",
    "\n",
    "3. Hay un mayor número de hospitales privados.\n",
    "\n",
    "4. La mayoria de personas optan por una sanidad mixta.\n"
   ]
  },
  {
   "cell_type": "markdown",
   "metadata": {},
   "source": [
    "### Propuesta:"
   ]
  },
  {
   "cell_type": "markdown",
   "metadata": {},
   "source": [
    "Impulsar mediante el uso de nuevas tecnologias la entrada de capital e inversores al sector de la sanidad privada, potenciando así su crecimiento y proyección."
   ]
  },
  {
   "cell_type": "markdown",
   "metadata": {},
   "source": [
    "### Repercusión:\n",
    "\n"
   ]
  },
  {
   "cell_type": "markdown",
   "metadata": {},
   "source": [
    "1. Disponer de la más avanzada tecnología en detección y prevención de enfermedades puede ser un aliciente para que nuevos inversores se interesen por este sector.\n",
    "\n",
    "2. Al atraer nuevos capitales podría reducirse el coste de la sanidad privada, bajando los coste de acceso a la misma, haciendola más accesible para todo el mundo. De esta manera será más atractiva la idea de optar por una sanidad privada en lugar de mixta o solo pública.\n",
    "\n",
    "3. Al poder prevenir ciertas enfermedades se puede reducir el número de gente hospitalizada por dichas enfermedades que se podrían haber prevenido, solventando así el problema del reducido número de camas disponibles en los hospitales privados."
   ]
  },
  {
   "cell_type": "markdown",
   "metadata": {},
   "source": [
    "# 3. Modelo de Machine Learning:"
   ]
  },
  {
   "cell_type": "markdown",
   "metadata": {},
   "source": [
    "Para crear nuestro modelo predictivo hemos usado algoritmos de bagging con árboles de deciones.\n",
    "\n",
    "### ¿Cómo funciona nuestro árbol de decisiones?\n",
    "\n",
    "\"Explicar nuestro árbol\"...\n",
    "\n",
    "Hemos construido el árbol en base a estas variables:\n",
    "1. Forma del segmento ST.\n",
    "2. Depresión del segmento ST.\n",
    "3. Colesterol.\n",
    "4. Edad .\n",
    "5. Electrocardiograma en reposo. \n",
    "6. Frecuencia cardíaca máxima.\n",
    "7. Sexo.\n",
    "\n",
    "Con este método conseguimos desgranar un problema complejo en muchos problemas simples.\n",
    "Luego mediante los ya mencionados algoritmos de bagging hemos replicado este árbol 50 veces y hemos sacado el promedio.\n",
    "\n",
    "(Lo del bagging) Es como si, queriendo resolver un problema entre varias personas independientes unas de otras, damos por bueno lo que eligiese la mayoría de las personas.\n",
    "\n",
    "Como resultado obtenemos un modelo predictivo cuya tasa de acierto es del 91,72 %.\n",
    "\n",
    "Este tipo de modelo podría ser aplicable para detectar y prevenir otro tipo de enfermedades, no solo para las del corazón."
   ]
  }
 ],
 "metadata": {
  "language_info": {
   "name": "python"
  },
  "orig_nbformat": 4
 },
 "nbformat": 4,
 "nbformat_minor": 2
}
